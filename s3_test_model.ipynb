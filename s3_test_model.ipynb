{
 "metadata": {
  "language_info": {
   "codemirror_mode": {
    "name": "ipython",
    "version": 3
   },
   "file_extension": ".py",
   "mimetype": "text/x-python",
   "name": "python",
   "nbconvert_exporter": "python",
   "pygments_lexer": "ipython3",
   "version": 3
  },
  "orig_nbformat": 2,
  "kernelspec": {
   "name": "python_defaultSpec_1596163862211",
   "display_name": "Python 3.7.5 64-bit ('chris_tf1': conda)"
  }
 },
 "nbformat": 4,
 "nbformat_minor": 2,
 "cells": [
  {
   "cell_type": "markdown",
   "metadata": {},
   "source": [
    "## 看下 0-255 模型在具有高斯分布的数据集中的精度"
   ]
  },
  {
   "cell_type": "code",
   "execution_count": 1,
   "metadata": {},
   "outputs": [],
   "source": [
    "import matplotlib.pyplot as plt\n",
    "import numpy as np\n",
    "import sklearn\n",
    "import torch\n",
    "import torch.nn as nn\n",
    "import torch.optim as optim\n",
    "from torch.utils.data import DataLoader,  Subset, RandomSampler, BatchSampler\n",
    "\n",
    "from model.inceptionv4 import inceptionv4\n",
    "from model.mobilenetv2 import mobilenetv2\n",
    "from model.resnet import resnet18\n",
    "from model.shufflenetv2 import shufflenetv2\n",
    "from model.vgg import vgg9_bn\n",
    "from s3_dataset import PlantDataSet, PlantDataSetB\n",
    "import matplotlib.pyplot as plt"
   ]
  },
  {
   "cell_type": "code",
   "execution_count": 3,
   "metadata": {},
   "outputs": [],
   "source": [
    "def get_pre(net, device, data_loader):\n",
    "    '''\n",
    "    得到整个测试集预测的结果，以及标签\n",
    "    '''\n",
    "    label_all = []\n",
    "    pre_all = []\n",
    "    with torch.no_grad():\n",
    "        net.eval()\n",
    "        for data in data_loader:\n",
    "            images, labels = data\n",
    "            images = images.float().to(device)\n",
    "            labels = labels.long().to(device)\n",
    "            outputs = net(images)\n",
    "            _, predicted = torch.max(outputs.data, 1)\n",
    "            label_all.extend(labels.data.cpu().numpy())\n",
    "            pre_all.extend(predicted.data.cpu().numpy())\n",
    "    return pre_all, label_all"
   ]
  },
  {
   "cell_type": "code",
   "execution_count": 3,
   "metadata": {
    "tags": []
   },
   "outputs": [
    {
     "output_type": "stream",
     "name": "stdout",
     "text": "预测精度为：0.964716595\n预测精度为：0.988276804\n预测精度为：0.988276804\n预测精度为：0.985545186\n预测精度为：0.972000911\n"
    }
   ],
   "source": [
    "from sklearn.metrics import accuracy_score # 精度\n",
    "from sklearn.metrics import confusion_matrix # 混淆矩阵\n",
    "\n",
    "device = torch.device('cuda:0' if torch.cuda.is_available() else 'cpu')\n",
    "Func = [vgg9_bn, resnet18, shufflenetv2, mobilenetv2, inceptionv4]\n",
    "Save_path = [\n",
    "    '../model_save/plant_disease2/vgg.pth',\n",
    "    '../model_save/plant_disease2/resnet18.pth',\n",
    "    '../model_save/plant_disease2/shufflenetv2.pth',\n",
    "    '../model_save/plant_disease2/mobilenetv2.pth',\n",
    "    '../model_save/plant_disease2/inceptionv4.pth'\n",
    "]\n",
    "data_test_a = DataLoader(PlantDataSet(flag='test'),\n",
    "                              batch_size=8,\n",
    "                          shuffle=False)\n",
    "data_test_b = DataLoader(PlantDataSetB(flag='test'),\n",
    "                              batch_size=8,\n",
    "                          shuffle=False)\n",
    "for Index in range(5):\n",
    "    # 导入模型和权重\n",
    "    net = Func[Index]()\n",
    "    path_saved_model = Save_path[Index]\n",
    "    net.load_state_dict(torch.load(path_saved_model))\n",
    "    net.to(device)\n",
    "    pre, label = get_pre(net, device, data_test_a)\n",
    "    pre, label = np.array(pre), np.array(label)\n",
    "    print('预测精度为：{:.9f}'.format(accuracy_score(label, pre)))"
   ]
  },
  {
   "cell_type": "code",
   "execution_count": 6,
   "metadata": {},
   "outputs": [],
   "source": [
    "ans = confusion_matrix(label, pre, labels=list(range(38)))\n",
    "from sklearn.metrics import classification_report\n",
    "print(classification_report(label, pre, labels=list(range(38))))"
   ]
  },
  {
   "cell_type": "code",
   "execution_count": 4,
   "metadata": {
    "tags": []
   },
   "outputs": [
    {
     "output_type": "stream",
     "name": "stdout",
     "text": "预测精度为：0.881839810\n预测精度为：0.925455987\n预测精度为：0.846153846\n"
    }
   ],
   "source": [
    "from sklearn.metrics import accuracy_score # 精度\n",
    "from sklearn.metrics import confusion_matrix # 混淆矩阵\n",
    "\n",
    "device = torch.device('cuda:1' if torch.cuda.is_available() else 'cpu')\n",
    "Func = [vgg9_bn, resnet18, shufflenetv2, mobilenetv2, inceptionv4]\n",
    "Save_path = [\n",
    "    '../model_save/plant_disease_domain/vgg.pth',\n",
    "    '../model_save/plant_disease_domain/resnet18.pth',\n",
    "    '../model_save/plant_disease_domain/shufflenetv2.pth'\n",
    "]\n",
    "data_test_a = DataLoader(PlantDataSet(flag='test'),\n",
    "                              batch_size=8,\n",
    "                          shuffle=False)\n",
    "data_test_b = DataLoader(PlantDataSetB(flag='test'),\n",
    "                              batch_size=8,\n",
    "                          shuffle=False)\n",
    "for Index in range(3):\n",
    "    # 导入模型和权重\n",
    "    net = Func[Index]()\n",
    "    path_saved_model = Save_path[Index]\n",
    "    net.load_state_dict(torch.load(path_saved_model))\n",
    "    net.to(device)\n",
    "    pre, label = get_pre(net, device, data_test_b)\n",
    "    pre, label = np.array(pre), np.array(label)\n",
    "    print('预测精度为：{:.9f}'.format(accuracy_score(label, pre)))"
   ]
  },
  {
   "cell_type": "code",
   "execution_count": null,
   "metadata": {},
   "outputs": [],
   "source": []
  }
 ]
}